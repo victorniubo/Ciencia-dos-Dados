{
 "cells": [
  {
   "cell_type": "markdown",
   "metadata": {},
   "source": [
    "#  Projeto 1"
   ]
  },
  {
   "cell_type": "markdown",
   "metadata": {},
   "source": [
    "# - Import de dados:"
   ]
  },
  {
   "cell_type": "code",
   "execution_count": 66,
   "metadata": {},
   "outputs": [],
   "source": [
    "# Import\n",
    "\n",
    "%matplotlib inline\n",
    "import pandas as pd\n",
    "import matplotlib.pyplot as plt\n"
   ]
  },
  {
   "cell_type": "markdown",
   "metadata": {},
   "source": [
    "# - Lendo arquivos xlsx:"
   ]
  },
  {
   "cell_type": "code",
   "execution_count": 67,
   "metadata": {},
   "outputs": [],
   "source": [
    "idh = pd.read_excel('hdi_human_development_index.xlsx')\n",
    "exercito = pd.read_excel('indicator army_total.xlsx')\n",
    "carvao = pd.read_excel('Coal Consumption.xlsx')"
   ]
  },
  {
   "cell_type": "markdown",
   "metadata": {},
   "source": [
    "# - Separando dados de 2008"
   ]
  },
  {
   "cell_type": "code",
   "execution_count": 68,
   "metadata": {
    "scrolled": true
   },
   "outputs": [],
   "source": [
    "idh_2008 = idh.loc[:,['geo', 2008]]\n",
    "idh_idx = idh_2008.set_index('geo')"
   ]
  },
  {
   "cell_type": "code",
   "execution_count": 69,
   "metadata": {},
   "outputs": [],
   "source": [
    "exercito_2008 = exercito.loc[:,['Paises', 2008]]\n",
    "exercito_idx = exercito_2008.set_index('Paises')"
   ]
  },
  {
   "cell_type": "code",
   "execution_count": 70,
   "metadata": {},
   "outputs": [],
   "source": [
    "carvao_2008 = carvao.loc[:,['Paises', 2008]]\n",
    "carvao_idx = carvao_2008.set_index('Paises')"
   ]
  },
  {
   "cell_type": "markdown",
   "metadata": {},
   "source": [
    "# - Junção dos dados:"
   ]
  },
  {
   "cell_type": "code",
   "execution_count": 71,
   "metadata": {},
   "outputs": [],
   "source": [
    "jun1 = idh_idx.join(exercito_idx, how='inner', lsuffix=' IDH', rsuffix=' Quantidade de Soldados')\n",
    "jun2 = jun1.dropna()"
   ]
  },
  {
   "cell_type": "code",
   "execution_count": 96,
   "metadata": {},
   "outputs": [
    {
     "name": "stderr",
     "output_type": "stream",
     "text": [
      "C:\\ProgramData\\Anaconda4\\lib\\site-packages\\ipykernel_launcher.py:1: SettingWithCopyWarning: \n",
      "A value is trying to be set on a copy of a slice from a DataFrame.\n",
      "Try using .loc[row_indexer,col_indexer] = value instead\n",
      "\n",
      "See the caveats in the documentation: http://pandas.pydata.org/pandas-docs/stable/indexing.html#indexing-view-versus-copy\n",
      "  \"\"\"Entry point for launching an IPython kernel.\n"
     ]
    },
    {
     "data": {
      "text/html": [
       "<div>\n",
       "<style scoped>\n",
       "    .dataframe tbody tr th:only-of-type {\n",
       "        vertical-align: middle;\n",
       "    }\n",
       "\n",
       "    .dataframe tbody tr th {\n",
       "        vertical-align: top;\n",
       "    }\n",
       "\n",
       "    .dataframe thead th {\n",
       "        text-align: right;\n",
       "    }\n",
       "</style>\n",
       "<table border=\"1\" class=\"dataframe\">\n",
       "  <thead>\n",
       "    <tr style=\"text-align: right;\">\n",
       "      <th></th>\n",
       "      <th>2008 IDH</th>\n",
       "      <th>2008 Quantidade de Soldados</th>\n",
       "      <th>Consumo de carvao em Ton's equivalentes de petróleo</th>\n",
       "    </tr>\n",
       "  </thead>\n",
       "  <tbody>\n",
       "    <tr>\n",
       "      <th>Norway</th>\n",
       "      <td>0.936</td>\n",
       "      <td>19000.0</td>\n",
       "      <td>6.980480e+05</td>\n",
       "    </tr>\n",
       "    <tr>\n",
       "      <th>Australia</th>\n",
       "      <td>0.925</td>\n",
       "      <td>55000.0</td>\n",
       "      <td>5.461050e+07</td>\n",
       "    </tr>\n",
       "    <tr>\n",
       "      <th>Switzerland</th>\n",
       "      <td>0.916</td>\n",
       "      <td>23000.0</td>\n",
       "      <td>1.450000e+05</td>\n",
       "    </tr>\n",
       "    <tr>\n",
       "      <th>Ireland</th>\n",
       "      <td>0.909</td>\n",
       "      <td>10000.0</td>\n",
       "      <td>1.422000e+06</td>\n",
       "    </tr>\n",
       "    <tr>\n",
       "      <th>United States</th>\n",
       "      <td>0.907</td>\n",
       "      <td>1540000.0</td>\n",
       "      <td>5.640972e+08</td>\n",
       "    </tr>\n",
       "    <tr>\n",
       "      <th>Netherlands</th>\n",
       "      <td>0.906</td>\n",
       "      <td>47000.0</td>\n",
       "      <td>8.477757e+06</td>\n",
       "    </tr>\n",
       "    <tr>\n",
       "      <th>Germany</th>\n",
       "      <td>0.906</td>\n",
       "      <td>244000.0</td>\n",
       "      <td>8.010891e+07</td>\n",
       "    </tr>\n",
       "    <tr>\n",
       "      <th>Denmark</th>\n",
       "      <td>0.906</td>\n",
       "      <td>30000.0</td>\n",
       "      <td>4.103000e+06</td>\n",
       "    </tr>\n",
       "    <tr>\n",
       "      <th>Sweden</th>\n",
       "      <td>0.898</td>\n",
       "      <td>17600.0</td>\n",
       "      <td>1.957150e+06</td>\n",
       "    </tr>\n",
       "    <tr>\n",
       "      <th>Canada</th>\n",
       "      <td>0.898</td>\n",
       "      <td>64000.0</td>\n",
       "      <td>2.989644e+07</td>\n",
       "    </tr>\n",
       "  </tbody>\n",
       "</table>\n",
       "</div>"
      ],
      "text/plain": [
       "               2008 IDH  2008 Quantidade de Soldados  \\\n",
       "Norway            0.936                      19000.0   \n",
       "Australia         0.925                      55000.0   \n",
       "Switzerland       0.916                      23000.0   \n",
       "Ireland           0.909                      10000.0   \n",
       "United States     0.907                    1540000.0   \n",
       "Netherlands       0.906                      47000.0   \n",
       "Germany           0.906                     244000.0   \n",
       "Denmark           0.906                      30000.0   \n",
       "Sweden            0.898                      17600.0   \n",
       "Canada            0.898                      64000.0   \n",
       "\n",
       "               Consumo de carvao em Ton's equivalentes de petróleo  \n",
       "Norway                                              6.980480e+05    \n",
       "Australia                                           5.461050e+07    \n",
       "Switzerland                                         1.450000e+05    \n",
       "Ireland                                             1.422000e+06    \n",
       "United States                                       5.640972e+08    \n",
       "Netherlands                                         8.477757e+06    \n",
       "Germany                                             8.010891e+07    \n",
       "Denmark                                             4.103000e+06    \n",
       "Sweden                                              1.957150e+06    \n",
       "Canada                                              2.989644e+07    "
      ]
     },
     "execution_count": 96,
     "metadata": {},
     "output_type": "execute_result"
    }
   ],
   "source": [
    "jun2[\"Consumo de carvao em Ton's equivalentes de petróleo\"] = carvao_idx[2008]\n",
    "data = jun2.dropna()\n",
    "data.sort_values('2008 IDH', ascending = False).head(10)"
   ]
  },
  {
   "cell_type": "markdown",
   "metadata": {},
   "source": [
    " "
   ]
  },
  {
   "cell_type": "markdown",
   "metadata": {},
   "source": [
    " "
   ]
  },
  {
   "cell_type": "code",
   "execution_count": 98,
   "metadata": {},
   "outputs": [
    {
     "data": {
      "text/html": [
       "<div>\n",
       "<style scoped>\n",
       "    .dataframe tbody tr th:only-of-type {\n",
       "        vertical-align: middle;\n",
       "    }\n",
       "\n",
       "    .dataframe tbody tr th {\n",
       "        vertical-align: top;\n",
       "    }\n",
       "\n",
       "    .dataframe thead th {\n",
       "        text-align: right;\n",
       "    }\n",
       "</style>\n",
       "<table border=\"1\" class=\"dataframe\">\n",
       "  <thead>\n",
       "    <tr style=\"text-align: right;\">\n",
       "      <th></th>\n",
       "      <th>2008 IDH</th>\n",
       "      <th>2008 Quantidade de Soldados</th>\n",
       "      <th>Consumo de carvao em Ton's equivalentes de petróleo</th>\n",
       "    </tr>\n",
       "  </thead>\n",
       "  <tbody>\n",
       "    <tr>\n",
       "      <th>2008 IDH</th>\n",
       "      <td>1.000000</td>\n",
       "      <td>-0.396247</td>\n",
       "      <td>-0.091212</td>\n",
       "    </tr>\n",
       "    <tr>\n",
       "      <th>2008 Quantidade de Soldados</th>\n",
       "      <td>-0.396247</td>\n",
       "      <td>1.000000</td>\n",
       "      <td>0.757133</td>\n",
       "    </tr>\n",
       "    <tr>\n",
       "      <th>Consumo de carvao em Ton's equivalentes de petróleo</th>\n",
       "      <td>-0.091212</td>\n",
       "      <td>0.757133</td>\n",
       "      <td>1.000000</td>\n",
       "    </tr>\n",
       "  </tbody>\n",
       "</table>\n",
       "</div>"
      ],
      "text/plain": [
       "                                                    2008 IDH  \\\n",
       "2008 IDH                                            1.000000   \n",
       "2008 Quantidade de Soldados                        -0.396247   \n",
       "Consumo de carvao em Ton's equivalentes de petr... -0.091212   \n",
       "\n",
       "                                                    2008 Quantidade de Soldados  \\\n",
       "2008 IDH                                                              -0.396247   \n",
       "2008 Quantidade de Soldados                                            1.000000   \n",
       "Consumo de carvao em Ton's equivalentes de petr...                     0.757133   \n",
       "\n",
       "                                                    Consumo de carvao em Ton's equivalentes de petróleo  \n",
       "2008 IDH                                                                                    -0.091212    \n",
       "2008 Quantidade de Soldados                                                                  0.757133    \n",
       "Consumo de carvao em Ton's equivalentes de petr...                                           1.000000    "
      ]
     },
     "execution_count": 98,
     "metadata": {},
     "output_type": "execute_result"
    }
   ],
   "source": [
    "data.corr()"
   ]
  },
  {
   "cell_type": "markdown",
   "metadata": {},
   "source": [
    "A seguir foram plotados gráficos de disperssão que comparam os três dados analisados. Nesse primeiro gráfico se analisa a relação entre o IDH e quantidade de soldados em cada país:"
   ]
  },
  {
   "cell_type": "code",
   "execution_count": 80,
   "metadata": {},
   "outputs": [
    {
     "data": {
      "text/plain": [
       "<matplotlib.axes._subplots.AxesSubplot at 0x2207bb06160>"
      ]
     },
     "execution_count": 80,
     "metadata": {},
     "output_type": "execute_result"
    },
    {
     "data": {
      "image/png": "[encoded data removed]",
      "text/plain": [
       "<Figure size 432x288 with 1 Axes>"
      ]
     },
     "metadata": {},
     "output_type": "display_data"
    }
   ],
   "source": [
    "data.plot.scatter(x=\"2008 IDH\", y = \"2008 Quantidade de Soldados\", logy = True)"
   ]
  },
  {
   "cell_type": "markdown",
   "metadata": {},
   "source": [
    "Neste é analisada a correlação entre o IDH e o Consumo de Carvão em toneladas equivalentes de petróleo para cada país com os dados disponíveis:"
   ]
  },
  {
   "cell_type": "code",
   "execution_count": 81,
   "metadata": {},
   "outputs": [
    {
     "data": {
      "text/plain": [
       "<matplotlib.axes._subplots.AxesSubplot at 0x2207bbc1cc0>"
      ]
     },
     "execution_count": 81,
     "metadata": {},
     "output_type": "execute_result"
    },
    {
     "data": {
      "image/png": "[encoded data removed]",
      "text/plain": [
       "<Figure size 432x288 with 1 Axes>"
      ]
     },
     "metadata": {},
     "output_type": "display_data"
    }
   ],
   "source": [
    "data.plot.scatter(x=\"2008 IDH\", y = \"Consumo de carvao em Ton's equivalentes de petróleo\",logy = True)"
   ]
  },
  {
   "cell_type": "markdown",
   "metadata": {},
   "source": [
    "Por fim, o próximo gráfico de disperssão analisa a relação entre a quantidade de soldados e o Consumo de Carvão em toneladas equivalentes de petróleo:  "
   ]
  },
  {
   "cell_type": "code",
   "execution_count": 82,
   "metadata": {},
   "outputs": [
    {
     "data": {
      "text/plain": [
       "<matplotlib.axes._subplots.AxesSubplot at 0x2207bb10d68>"
      ]
     },
     "execution_count": 82,
     "metadata": {},
     "output_type": "execute_result"
    },
    {
     "data": {
      "image/png": "[encoded data removed]",
      "text/plain": [
       "<Figure size 432x288 with 1 Axes>"
      ]
     },
     "metadata": {},
     "output_type": "display_data"
    }
   ],
   "source": [
    "data.plot.scatter(x=\"2008 Quantidade de Soldados\", y = \"Consumo de carvao em Ton's equivalentes de petróleo\",logy = True, logx = True)"
   ]
  },
  {
   "cell_type": "code",
   "execution_count": 83,
   "metadata": {},
   "outputs": [],
   "source": [
    "def reta(dados_x, dados_y):    \n",
    "    a = dados_y.cov(dados_x) / dados_x.var()\n",
    "    b = dados_y.mean() - a*dados_x.mean()\n",
    " \n",
    "    print('Ajuste linear entre X3 e X4:')\n",
    "    print('Coeficiente linear:', b)\n",
    "    print('Coeficiente angular:', a)\n",
    " \n",
    "    fig = plt.figure(figsize=(8, 6))\n",
    "    plt.scatter(dados_x, dados_y, c='red', alpha=0.8)\n",
    "    plt.title('x versus y')\n",
    "    plt.xlabel('eixo x')\n",
    "    plt.ylabel('eixo y')\n",
    " \n",
    "    plt.plot((dados_x.min(), dados_x.max()), (a*dados_x.min()+b, a*dados_x.max()+b), color='blue')\n",
    " \n",
    "    plt.tight_layout()\n",
    "    plt.show()"
   ]
  },
  {
   "cell_type": "markdown",
   "metadata": {},
   "source": [
    " "
   ]
  },
  {
   "cell_type": "markdown",
   "metadata": {},
   "source": [
    " "
   ]
  },
  {
   "cell_type": "markdown",
   "metadata": {},
   "source": [
    "Traçando a reta de correlação neste primeiro caso ela aparenta ter uma correlação alta, porém devido aos pontos que saem muito do padrão o valor dessa correlação é de aproximadamente -0.39, o que é um valor consideravel tomando em conta os pontos muito divergentes. Portanto pode-se concluir que existe uma tendência de países com o IDH maior de ter menos soldados, o que também pode se explicar pelo fato de que grande parte dos países que tem o IDH elevado, tem uma população muito reduzida, o que pode justificar a tendência."
   ]
  },
  {
   "cell_type": "code",
   "execution_count": 100,
   "metadata": {},
   "outputs": [
    {
     "name": "stdout",
     "output_type": "stream",
     "text": [
      "Ajuste linear entre X3 e X4:\n",
      "Coeficiente linear: 2003420.975850705\n",
      "Coeficiente angular: -2103055.6719341706\n"
     ]
    },
    {
     "data": {
      "image/png": "[encoded data removed]",
      "text/plain": [
       "<Figure size 576x432 with 1 Axes>"
      ]
     },
     "metadata": {},
     "output_type": "display_data"
    }
   ],
   "source": [
    "reta(data['2008 IDH'], data['2008 Quantidade de Soldados'])"
   ]
  },
  {
   "cell_type": "markdown",
   "metadata": {},
   "source": [
    "Na analise a seguir foi plotada a reta de correlação entre o IDH e o Consumo de carvao em toneladas equivalentes de petróleo, que em analise numérica tem uma relação quase despresível, de aproximadamente 0.09, o que em analise real não faria muito sentido pois uma vez que os paises com maior IDH tendem a ser menores, ou seja, com uma população e território menores, o seu consuma de carvão deveria ser reduzido em relação a paises maiores e mais populosos."
   ]
  },
  {
   "cell_type": "code",
   "execution_count": 85,
   "metadata": {},
   "outputs": [
    {
     "name": "stdout",
     "output_type": "stream",
     "text": [
      "Ajuste linear entre X3 e X4:\n",
      "Coeficiente linear: 196229407.54084677\n",
      "Coeficiente angular: -176464676.36949655\n"
     ]
    },
    {
     "data": {
      "image/png": "[encoded data removed]",
      "text/plain": [
       "<Figure size 576x432 with 1 Axes>"
      ]
     },
     "metadata": {},
     "output_type": "display_data"
    }
   ],
   "source": [
    "reta(data['2008 IDH'], data[\"Consumo de carvao em Ton's equivalentes de petróleo\"])"
   ]
  },
  {
   "cell_type": "markdown",
   "metadata": {},
   "source": [
    "É nessa analise que mais me intriga, pois não consigo achar nenhuma relação entre quantidade de soldados e consumo de carvão, porém os números me dizem exatamente o contrário, apresentando um indíce de correlação entre os dois dados de aproximadamente 0.75, o que me parece um valor muito alto para ser uma mera coincidência, mesmo assim, sigo sem perceber a correlação entre os dois índices."
   ]
  },
  {
   "cell_type": "code",
   "execution_count": 86,
   "metadata": {},
   "outputs": [
    {
     "name": "stdout",
     "output_type": "stream",
     "text": [
      "Ajuste linear entre X3 e X4:\n",
      "Coeficiente linear: -40560472.29111065\n",
      "Coeficiente angular: 275.9899887905899\n"
     ]
    },
    {
     "data": {
      "image/png": "[encoded data removed]",
      "text/plain": [
       "<Figure size 576x432 with 1 Axes>"
      ]
     },
     "metadata": {},
     "output_type": "display_data"
    }
   ],
   "source": [
    "reta(data['2008 Quantidade de Soldados'], data[\"Consumo de carvao em Ton's equivalentes de petróleo\"])"
   ]
  }
 ],
 "metadata": {
  "kernelspec": {
   "display_name": "Python 3",
   "language": "python",
   "name": "python3"
  },
  "language_info": {
   "codemirror_mode": {
    "name": "ipython",
    "version": 3
   },
   "file_extension": ".py",
   "mimetype": "text/x-python",
   "name": "python",
   "nbconvert_exporter": "python",
   "pygments_lexer": "ipython3",
   "version": "3.6.5"
  }
 },
 "nbformat": 4,
 "nbformat_minor": 2
}
